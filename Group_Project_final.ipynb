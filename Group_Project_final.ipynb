{
 "cells": [
  {
   "cell_type": "markdown",
   "id": "917a0cf3-d7b9-4a9b-ac42-9f380a1cec11",
   "metadata": {},
   "source": [
    "# Predicting Heart Disease: DSCI 100 Group Project Proposal (Group 23)"
   ]
  },
  {
   "cell_type": "markdown",
   "id": "ae7f67cf-a1c0-46b1-a831-4cd82e1121d8",
   "metadata": {},
   "source": [
    "### Introduction:"
   ]
  },
  {
   "cell_type": "markdown",
   "id": "2455a3fb-03c5-454e-b3d3-cc4a445db718",
   "metadata": {},
   "source": [
    "Cardiovascular diseases (CVDs), or heart diseases, encompasses a range of medical conditions that affect the heart and blood vessels. Worldwide, CVDs are the leading cause of death with nearly 18 million deaths a year (World Health Organization, 2023). Early detection is key to treatment, prevention, and management of heart disease; our data analysis aims to help with this. \n",
    "\n",
    "The dataset used is from: https://archive.ics.uci.edu/dataset/45/heart+disease. The data was published in 1988 and the dataset we are using is the one specifically collected in Cleveland. The dataset consists of 303 observations and 14 variables.\n",
    "\n",
    "The question we aim to address is: **can we predict if a patient has heart disease based on their age, resting blood pressure, serum cholesterol, and maximum resting heart rate?**"
   ]
  },
  {
   "cell_type": "code",
   "execution_count": 3,
   "id": "5fb3130b-18af-40dc-a2fc-c92b6b75326c",
   "metadata": {},
   "outputs": [
    {
     "name": "stderr",
     "output_type": "stream",
     "text": [
      "Warning message:\n",
      "“package ‘ggplot2’ was built under R version 4.3.2”\n",
      "── \u001b[1mAttaching core tidyverse packages\u001b[22m ──────────────────────── tidyverse 2.0.0 ──\n",
      "\u001b[32m✔\u001b[39m \u001b[34mdplyr    \u001b[39m 1.1.3     \u001b[32m✔\u001b[39m \u001b[34mreadr    \u001b[39m 2.1.4\n",
      "\u001b[32m✔\u001b[39m \u001b[34mforcats  \u001b[39m 1.0.0     \u001b[32m✔\u001b[39m \u001b[34mstringr  \u001b[39m 1.5.0\n",
      "\u001b[32m✔\u001b[39m \u001b[34mggplot2  \u001b[39m 3.5.0     \u001b[32m✔\u001b[39m \u001b[34mtibble   \u001b[39m 3.2.1\n",
      "\u001b[32m✔\u001b[39m \u001b[34mlubridate\u001b[39m 1.9.2     \u001b[32m✔\u001b[39m \u001b[34mtidyr    \u001b[39m 1.3.0\n",
      "\u001b[32m✔\u001b[39m \u001b[34mpurrr    \u001b[39m 1.0.2     \n",
      "── \u001b[1mConflicts\u001b[22m ────────────────────────────────────────── tidyverse_conflicts() ──\n",
      "\u001b[31m✖\u001b[39m \u001b[34mdplyr\u001b[39m::\u001b[32mfilter()\u001b[39m masks \u001b[34mstats\u001b[39m::filter()\n",
      "\u001b[31m✖\u001b[39m \u001b[34mdplyr\u001b[39m::\u001b[32mlag()\u001b[39m    masks \u001b[34mstats\u001b[39m::lag()\n",
      "\u001b[36mℹ\u001b[39m Use the conflicted package (\u001b[3m\u001b[34m<http://conflicted.r-lib.org/>\u001b[39m\u001b[23m) to force all conflicts to become errors\n",
      "── \u001b[1mAttaching packages\u001b[22m ────────────────────────────────────── tidymodels 1.1.1 ──\n",
      "\n",
      "\u001b[32m✔\u001b[39m \u001b[34mbroom       \u001b[39m 1.0.5     \u001b[32m✔\u001b[39m \u001b[34mrsample     \u001b[39m 1.2.0\n",
      "\u001b[32m✔\u001b[39m \u001b[34mdials       \u001b[39m 1.2.0     \u001b[32m✔\u001b[39m \u001b[34mtune        \u001b[39m 1.1.2\n",
      "\u001b[32m✔\u001b[39m \u001b[34minfer       \u001b[39m 1.0.5     \u001b[32m✔\u001b[39m \u001b[34mworkflows   \u001b[39m 1.1.3\n",
      "\u001b[32m✔\u001b[39m \u001b[34mmodeldata   \u001b[39m 1.2.0     \u001b[32m✔\u001b[39m \u001b[34mworkflowsets\u001b[39m 1.0.1\n",
      "\u001b[32m✔\u001b[39m \u001b[34mparsnip     \u001b[39m 1.1.1     \u001b[32m✔\u001b[39m \u001b[34myardstick   \u001b[39m 1.2.0\n",
      "\u001b[32m✔\u001b[39m \u001b[34mrecipes     \u001b[39m 1.0.8     \n",
      "\n",
      "── \u001b[1mConflicts\u001b[22m ───────────────────────────────────────── tidymodels_conflicts() ──\n",
      "\u001b[31m✖\u001b[39m \u001b[34mscales\u001b[39m::\u001b[32mdiscard()\u001b[39m masks \u001b[34mpurrr\u001b[39m::discard()\n",
      "\u001b[31m✖\u001b[39m \u001b[34mdplyr\u001b[39m::\u001b[32mfilter()\u001b[39m   masks \u001b[34mstats\u001b[39m::filter()\n",
      "\u001b[31m✖\u001b[39m \u001b[34mrecipes\u001b[39m::\u001b[32mfixed()\u001b[39m  masks \u001b[34mstringr\u001b[39m::fixed()\n",
      "\u001b[31m✖\u001b[39m \u001b[34mdplyr\u001b[39m::\u001b[32mlag()\u001b[39m      masks \u001b[34mstats\u001b[39m::lag()\n",
      "\u001b[31m✖\u001b[39m \u001b[34myardstick\u001b[39m::\u001b[32mspec()\u001b[39m masks \u001b[34mreadr\u001b[39m::spec()\n",
      "\u001b[31m✖\u001b[39m \u001b[34mrecipes\u001b[39m::\u001b[32mstep()\u001b[39m   masks \u001b[34mstats\u001b[39m::step()\n",
      "\u001b[34m•\u001b[39m Use \u001b[32mtidymodels_prefer()\u001b[39m to resolve common conflicts.\n",
      "\n"
     ]
    }
   ],
   "source": [
    "library(tidyverse)\n",
    "library(RColorBrewer)\n",
    "library(tidymodels)"
   ]
  },
  {
   "cell_type": "code",
   "execution_count": 8,
   "id": "abbe1c23-fcf6-439b-bafc-f94e954f1f1d",
   "metadata": {},
   "outputs": [
    {
     "name": "stderr",
     "output_type": "stream",
     "text": [
      "\u001b[1mRows: \u001b[22m\u001b[34m918\u001b[39m \u001b[1mColumns: \u001b[22m\u001b[34m12\u001b[39m\n",
      "\u001b[36m──\u001b[39m \u001b[1mColumn specification\u001b[22m \u001b[36m────────────────────────────────────────────────────────\u001b[39m\n",
      "\u001b[1mDelimiter:\u001b[22m \",\"\n",
      "\u001b[31mchr\u001b[39m (5): Sex, ChestPainType, RestingECG, ExerciseAngina, ST_Slope\n",
      "\u001b[32mdbl\u001b[39m (7): Age, RestingBP, Cholesterol, FastingBS, MaxHR, Oldpeak, HeartDisease\n",
      "\n",
      "\u001b[36mℹ\u001b[39m Use `spec()` to retrieve the full column specification for this data.\n",
      "\u001b[36mℹ\u001b[39m Specify the column types or set `show_col_types = FALSE` to quiet this message.\n"
     ]
    },
    {
     "data": {
      "text/html": [
       "<table class=\"dataframe\">\n",
       "<caption>A tibble: 15 × 12</caption>\n",
       "<thead>\n",
       "\t<tr><th scope=col>Age</th><th scope=col>Sex</th><th scope=col>ChestPainType</th><th scope=col>RestingBP</th><th scope=col>Cholesterol</th><th scope=col>FastingBS</th><th scope=col>RestingECG</th><th scope=col>MaxHR</th><th scope=col>ExerciseAngina</th><th scope=col>Oldpeak</th><th scope=col>ST_Slope</th><th scope=col>HeartDisease</th></tr>\n",
       "\t<tr><th scope=col>&lt;dbl&gt;</th><th scope=col>&lt;chr&gt;</th><th scope=col>&lt;chr&gt;</th><th scope=col>&lt;dbl&gt;</th><th scope=col>&lt;dbl&gt;</th><th scope=col>&lt;dbl&gt;</th><th scope=col>&lt;chr&gt;</th><th scope=col>&lt;dbl&gt;</th><th scope=col>&lt;chr&gt;</th><th scope=col>&lt;dbl&gt;</th><th scope=col>&lt;chr&gt;</th><th scope=col>&lt;dbl&gt;</th></tr>\n",
       "</thead>\n",
       "<tbody>\n",
       "\t<tr><td>40</td><td>M</td><td>ATA</td><td>140</td><td>289</td><td>0</td><td>Normal</td><td>172</td><td>N</td><td>0.0</td><td>Up  </td><td>0</td></tr>\n",
       "\t<tr><td>49</td><td>F</td><td>NAP</td><td>160</td><td>180</td><td>0</td><td>Normal</td><td>156</td><td>N</td><td>1.0</td><td>Flat</td><td>1</td></tr>\n",
       "\t<tr><td>37</td><td>M</td><td>ATA</td><td>130</td><td>283</td><td>0</td><td>ST    </td><td> 98</td><td>N</td><td>0.0</td><td>Up  </td><td>0</td></tr>\n",
       "\t<tr><td>48</td><td>F</td><td>ASY</td><td>138</td><td>214</td><td>0</td><td>Normal</td><td>108</td><td>Y</td><td>1.5</td><td>Flat</td><td>1</td></tr>\n",
       "\t<tr><td>54</td><td>M</td><td>NAP</td><td>150</td><td>195</td><td>0</td><td>Normal</td><td>122</td><td>N</td><td>0.0</td><td>Up  </td><td>0</td></tr>\n",
       "\t<tr><td>39</td><td>M</td><td>NAP</td><td>120</td><td>339</td><td>0</td><td>Normal</td><td>170</td><td>N</td><td>0.0</td><td>Up  </td><td>0</td></tr>\n",
       "\t<tr><td>45</td><td>F</td><td>ATA</td><td>130</td><td>237</td><td>0</td><td>Normal</td><td>170</td><td>N</td><td>0.0</td><td>Up  </td><td>0</td></tr>\n",
       "\t<tr><td>54</td><td>M</td><td>ATA</td><td>110</td><td>208</td><td>0</td><td>Normal</td><td>142</td><td>N</td><td>0.0</td><td>Up  </td><td>0</td></tr>\n",
       "\t<tr><td>37</td><td>M</td><td>ASY</td><td>140</td><td>207</td><td>0</td><td>Normal</td><td>130</td><td>Y</td><td>1.5</td><td>Flat</td><td>1</td></tr>\n",
       "\t<tr><td>48</td><td>F</td><td>ATA</td><td>120</td><td>284</td><td>0</td><td>Normal</td><td>120</td><td>N</td><td>0.0</td><td>Up  </td><td>0</td></tr>\n",
       "\t<tr><td>37</td><td>F</td><td>NAP</td><td>130</td><td>211</td><td>0</td><td>Normal</td><td>142</td><td>N</td><td>0.0</td><td>Up  </td><td>0</td></tr>\n",
       "\t<tr><td>58</td><td>M</td><td>ATA</td><td>136</td><td>164</td><td>0</td><td>ST    </td><td> 99</td><td>Y</td><td>2.0</td><td>Flat</td><td>1</td></tr>\n",
       "\t<tr><td>39</td><td>M</td><td>ATA</td><td>120</td><td>204</td><td>0</td><td>Normal</td><td>145</td><td>N</td><td>0.0</td><td>Up  </td><td>0</td></tr>\n",
       "\t<tr><td>49</td><td>M</td><td>ASY</td><td>140</td><td>234</td><td>0</td><td>Normal</td><td>140</td><td>Y</td><td>1.0</td><td>Flat</td><td>1</td></tr>\n",
       "\t<tr><td>42</td><td>F</td><td>NAP</td><td>115</td><td>211</td><td>0</td><td>ST    </td><td>137</td><td>N</td><td>0.0</td><td>Up  </td><td>0</td></tr>\n",
       "</tbody>\n",
       "</table>\n"
      ],
      "text/latex": [
       "A tibble: 15 × 12\n",
       "\\begin{tabular}{llllllllllll}\n",
       " Age & Sex & ChestPainType & RestingBP & Cholesterol & FastingBS & RestingECG & MaxHR & ExerciseAngina & Oldpeak & ST\\_Slope & HeartDisease\\\\\n",
       " <dbl> & <chr> & <chr> & <dbl> & <dbl> & <dbl> & <chr> & <dbl> & <chr> & <dbl> & <chr> & <dbl>\\\\\n",
       "\\hline\n",
       "\t 40 & M & ATA & 140 & 289 & 0 & Normal & 172 & N & 0.0 & Up   & 0\\\\\n",
       "\t 49 & F & NAP & 160 & 180 & 0 & Normal & 156 & N & 1.0 & Flat & 1\\\\\n",
       "\t 37 & M & ATA & 130 & 283 & 0 & ST     &  98 & N & 0.0 & Up   & 0\\\\\n",
       "\t 48 & F & ASY & 138 & 214 & 0 & Normal & 108 & Y & 1.5 & Flat & 1\\\\\n",
       "\t 54 & M & NAP & 150 & 195 & 0 & Normal & 122 & N & 0.0 & Up   & 0\\\\\n",
       "\t 39 & M & NAP & 120 & 339 & 0 & Normal & 170 & N & 0.0 & Up   & 0\\\\\n",
       "\t 45 & F & ATA & 130 & 237 & 0 & Normal & 170 & N & 0.0 & Up   & 0\\\\\n",
       "\t 54 & M & ATA & 110 & 208 & 0 & Normal & 142 & N & 0.0 & Up   & 0\\\\\n",
       "\t 37 & M & ASY & 140 & 207 & 0 & Normal & 130 & Y & 1.5 & Flat & 1\\\\\n",
       "\t 48 & F & ATA & 120 & 284 & 0 & Normal & 120 & N & 0.0 & Up   & 0\\\\\n",
       "\t 37 & F & NAP & 130 & 211 & 0 & Normal & 142 & N & 0.0 & Up   & 0\\\\\n",
       "\t 58 & M & ATA & 136 & 164 & 0 & ST     &  99 & Y & 2.0 & Flat & 1\\\\\n",
       "\t 39 & M & ATA & 120 & 204 & 0 & Normal & 145 & N & 0.0 & Up   & 0\\\\\n",
       "\t 49 & M & ASY & 140 & 234 & 0 & Normal & 140 & Y & 1.0 & Flat & 1\\\\\n",
       "\t 42 & F & NAP & 115 & 211 & 0 & ST     & 137 & N & 0.0 & Up   & 0\\\\\n",
       "\\end{tabular}\n"
      ],
      "text/markdown": [
       "\n",
       "A tibble: 15 × 12\n",
       "\n",
       "| Age &lt;dbl&gt; | Sex &lt;chr&gt; | ChestPainType &lt;chr&gt; | RestingBP &lt;dbl&gt; | Cholesterol &lt;dbl&gt; | FastingBS &lt;dbl&gt; | RestingECG &lt;chr&gt; | MaxHR &lt;dbl&gt; | ExerciseAngina &lt;chr&gt; | Oldpeak &lt;dbl&gt; | ST_Slope &lt;chr&gt; | HeartDisease &lt;dbl&gt; |\n",
       "|---|---|---|---|---|---|---|---|---|---|---|---|\n",
       "| 40 | M | ATA | 140 | 289 | 0 | Normal | 172 | N | 0.0 | Up   | 0 |\n",
       "| 49 | F | NAP | 160 | 180 | 0 | Normal | 156 | N | 1.0 | Flat | 1 |\n",
       "| 37 | M | ATA | 130 | 283 | 0 | ST     |  98 | N | 0.0 | Up   | 0 |\n",
       "| 48 | F | ASY | 138 | 214 | 0 | Normal | 108 | Y | 1.5 | Flat | 1 |\n",
       "| 54 | M | NAP | 150 | 195 | 0 | Normal | 122 | N | 0.0 | Up   | 0 |\n",
       "| 39 | M | NAP | 120 | 339 | 0 | Normal | 170 | N | 0.0 | Up   | 0 |\n",
       "| 45 | F | ATA | 130 | 237 | 0 | Normal | 170 | N | 0.0 | Up   | 0 |\n",
       "| 54 | M | ATA | 110 | 208 | 0 | Normal | 142 | N | 0.0 | Up   | 0 |\n",
       "| 37 | M | ASY | 140 | 207 | 0 | Normal | 130 | Y | 1.5 | Flat | 1 |\n",
       "| 48 | F | ATA | 120 | 284 | 0 | Normal | 120 | N | 0.0 | Up   | 0 |\n",
       "| 37 | F | NAP | 130 | 211 | 0 | Normal | 142 | N | 0.0 | Up   | 0 |\n",
       "| 58 | M | ATA | 136 | 164 | 0 | ST     |  99 | Y | 2.0 | Flat | 1 |\n",
       "| 39 | M | ATA | 120 | 204 | 0 | Normal | 145 | N | 0.0 | Up   | 0 |\n",
       "| 49 | M | ASY | 140 | 234 | 0 | Normal | 140 | Y | 1.0 | Flat | 1 |\n",
       "| 42 | F | NAP | 115 | 211 | 0 | ST     | 137 | N | 0.0 | Up   | 0 |\n",
       "\n"
      ],
      "text/plain": [
       "   Age Sex ChestPainType RestingBP Cholesterol FastingBS RestingECG MaxHR\n",
       "1  40  M   ATA           140       289         0         Normal     172  \n",
       "2  49  F   NAP           160       180         0         Normal     156  \n",
       "3  37  M   ATA           130       283         0         ST          98  \n",
       "4  48  F   ASY           138       214         0         Normal     108  \n",
       "5  54  M   NAP           150       195         0         Normal     122  \n",
       "6  39  M   NAP           120       339         0         Normal     170  \n",
       "7  45  F   ATA           130       237         0         Normal     170  \n",
       "8  54  M   ATA           110       208         0         Normal     142  \n",
       "9  37  M   ASY           140       207         0         Normal     130  \n",
       "10 48  F   ATA           120       284         0         Normal     120  \n",
       "11 37  F   NAP           130       211         0         Normal     142  \n",
       "12 58  M   ATA           136       164         0         ST          99  \n",
       "13 39  M   ATA           120       204         0         Normal     145  \n",
       "14 49  M   ASY           140       234         0         Normal     140  \n",
       "15 42  F   NAP           115       211         0         ST         137  \n",
       "   ExerciseAngina Oldpeak ST_Slope HeartDisease\n",
       "1  N              0.0     Up       0           \n",
       "2  N              1.0     Flat     1           \n",
       "3  N              0.0     Up       0           \n",
       "4  Y              1.5     Flat     1           \n",
       "5  N              0.0     Up       0           \n",
       "6  N              0.0     Up       0           \n",
       "7  N              0.0     Up       0           \n",
       "8  N              0.0     Up       0           \n",
       "9  Y              1.5     Flat     1           \n",
       "10 N              0.0     Up       0           \n",
       "11 N              0.0     Up       0           \n",
       "12 Y              2.0     Flat     1           \n",
       "13 N              0.0     Up       0           \n",
       "14 Y              1.0     Flat     1           \n",
       "15 N              0.0     Up       0           "
      ]
     },
     "metadata": {},
     "output_type": "display_data"
    }
   ],
   "source": [
    "#These lines of code bring the data into R and make it into a table showing the first 15 rows\n",
    "download.file(\"https://raw.githubusercontent.com/Aamitoz-Sharma/Group_23_project/main/heart.csv\", \"heart_data.csv\") #downloading file\n",
    "heart_data <- read_csv(\"heart_data.csv\")\n",
    "head(heart_data,15)\n"
   ]
  },
  {
   "cell_type": "code",
   "execution_count": 11,
   "id": "1739ec6e-6de1-43cb-b6c3-d3a43daa781c",
   "metadata": {},
   "outputs": [
    {
     "data": {
      "text/html": [
       "<table class=\"dataframe\">\n",
       "<caption>A tibble: 15 × 5</caption>\n",
       "<thead>\n",
       "\t<tr><th scope=col>Age</th><th scope=col>RestingBP</th><th scope=col>Cholesterol</th><th scope=col>MaxHR</th><th scope=col>HeartDisease</th></tr>\n",
       "\t<tr><th scope=col>&lt;dbl&gt;</th><th scope=col>&lt;dbl&gt;</th><th scope=col>&lt;dbl&gt;</th><th scope=col>&lt;dbl&gt;</th><th scope=col>&lt;fct&gt;</th></tr>\n",
       "</thead>\n",
       "<tbody>\n",
       "\t<tr><td>40</td><td>140</td><td>289</td><td>172</td><td>no </td></tr>\n",
       "\t<tr><td>49</td><td>160</td><td>180</td><td>156</td><td>yes</td></tr>\n",
       "\t<tr><td>37</td><td>130</td><td>283</td><td> 98</td><td>no </td></tr>\n",
       "\t<tr><td>48</td><td>138</td><td>214</td><td>108</td><td>yes</td></tr>\n",
       "\t<tr><td>54</td><td>150</td><td>195</td><td>122</td><td>no </td></tr>\n",
       "\t<tr><td>39</td><td>120</td><td>339</td><td>170</td><td>no </td></tr>\n",
       "\t<tr><td>45</td><td>130</td><td>237</td><td>170</td><td>no </td></tr>\n",
       "\t<tr><td>54</td><td>110</td><td>208</td><td>142</td><td>no </td></tr>\n",
       "\t<tr><td>37</td><td>140</td><td>207</td><td>130</td><td>yes</td></tr>\n",
       "\t<tr><td>48</td><td>120</td><td>284</td><td>120</td><td>no </td></tr>\n",
       "\t<tr><td>37</td><td>130</td><td>211</td><td>142</td><td>no </td></tr>\n",
       "\t<tr><td>58</td><td>136</td><td>164</td><td> 99</td><td>yes</td></tr>\n",
       "\t<tr><td>39</td><td>120</td><td>204</td><td>145</td><td>no </td></tr>\n",
       "\t<tr><td>49</td><td>140</td><td>234</td><td>140</td><td>yes</td></tr>\n",
       "\t<tr><td>42</td><td>115</td><td>211</td><td>137</td><td>no </td></tr>\n",
       "</tbody>\n",
       "</table>\n"
      ],
      "text/latex": [
       "A tibble: 15 × 5\n",
       "\\begin{tabular}{lllll}\n",
       " Age & RestingBP & Cholesterol & MaxHR & HeartDisease\\\\\n",
       " <dbl> & <dbl> & <dbl> & <dbl> & <fct>\\\\\n",
       "\\hline\n",
       "\t 40 & 140 & 289 & 172 & no \\\\\n",
       "\t 49 & 160 & 180 & 156 & yes\\\\\n",
       "\t 37 & 130 & 283 &  98 & no \\\\\n",
       "\t 48 & 138 & 214 & 108 & yes\\\\\n",
       "\t 54 & 150 & 195 & 122 & no \\\\\n",
       "\t 39 & 120 & 339 & 170 & no \\\\\n",
       "\t 45 & 130 & 237 & 170 & no \\\\\n",
       "\t 54 & 110 & 208 & 142 & no \\\\\n",
       "\t 37 & 140 & 207 & 130 & yes\\\\\n",
       "\t 48 & 120 & 284 & 120 & no \\\\\n",
       "\t 37 & 130 & 211 & 142 & no \\\\\n",
       "\t 58 & 136 & 164 &  99 & yes\\\\\n",
       "\t 39 & 120 & 204 & 145 & no \\\\\n",
       "\t 49 & 140 & 234 & 140 & yes\\\\\n",
       "\t 42 & 115 & 211 & 137 & no \\\\\n",
       "\\end{tabular}\n"
      ],
      "text/markdown": [
       "\n",
       "A tibble: 15 × 5\n",
       "\n",
       "| Age &lt;dbl&gt; | RestingBP &lt;dbl&gt; | Cholesterol &lt;dbl&gt; | MaxHR &lt;dbl&gt; | HeartDisease &lt;fct&gt; |\n",
       "|---|---|---|---|---|\n",
       "| 40 | 140 | 289 | 172 | no  |\n",
       "| 49 | 160 | 180 | 156 | yes |\n",
       "| 37 | 130 | 283 |  98 | no  |\n",
       "| 48 | 138 | 214 | 108 | yes |\n",
       "| 54 | 150 | 195 | 122 | no  |\n",
       "| 39 | 120 | 339 | 170 | no  |\n",
       "| 45 | 130 | 237 | 170 | no  |\n",
       "| 54 | 110 | 208 | 142 | no  |\n",
       "| 37 | 140 | 207 | 130 | yes |\n",
       "| 48 | 120 | 284 | 120 | no  |\n",
       "| 37 | 130 | 211 | 142 | no  |\n",
       "| 58 | 136 | 164 |  99 | yes |\n",
       "| 39 | 120 | 204 | 145 | no  |\n",
       "| 49 | 140 | 234 | 140 | yes |\n",
       "| 42 | 115 | 211 | 137 | no  |\n",
       "\n"
      ],
      "text/plain": [
       "   Age RestingBP Cholesterol MaxHR HeartDisease\n",
       "1  40  140       289         172   no          \n",
       "2  49  160       180         156   yes         \n",
       "3  37  130       283          98   no          \n",
       "4  48  138       214         108   yes         \n",
       "5  54  150       195         122   no          \n",
       "6  39  120       339         170   no          \n",
       "7  45  130       237         170   no          \n",
       "8  54  110       208         142   no          \n",
       "9  37  140       207         130   yes         \n",
       "10 48  120       284         120   no          \n",
       "11 37  130       211         142   no          \n",
       "12 58  136       164          99   yes         \n",
       "13 39  120       204         145   no          \n",
       "14 49  140       234         140   yes         \n",
       "15 42  115       211         137   no          "
      ]
     },
     "metadata": {},
     "output_type": "display_data"
    }
   ],
   "source": [
    "#This set of data will select the data points we are interested in Age, Resting blood pressure, Cholesterol, Max heart rate and Heart Disease\n",
    "heart <- heart_data |> \n",
    "    select(Age, RestingBP, Cholesterol, MaxHR, HeartDisease) |>\n",
    "#This line changes the Heart Disease variable from a continous quantitative variable(dbl) to a categorical variable(fct)\n",
    "    mutate(HeartDisease = as_factor(HeartDisease)) |>\n",
    "#This line changes the factor variables from 0 to no and 1 to yes\n",
    "    mutate(HeartDisease = fct_recode(HeartDisease, \"yes\" = \"1\", \"no\" = \"0\")) \n",
    "head(heart,15)"
   ]
  },
  {
   "cell_type": "code",
   "execution_count": null,
   "id": "d51ccb23-0807-4462-9c79-4876a5f09d3d",
   "metadata": {},
   "outputs": [],
   "source": [
    "\n",
    "#splitting into training and testing data as this allows us to know how good our model is and if it is making any mistakes\n",
    "heart_split <- initial_split(heart, prop = 0.75, strata = HeartDisease) #splitting into training and testing data.\n",
    "heart_train <- training(heart_split)\n",
    "heart_test <- testing(heart_split)\n",
    "\n",
    "head(heart_train)\n",
    "head(heart_test)"
   ]
  },
  {
   "cell_type": "code",
   "execution_count": null,
   "id": "cbb3d81d-bf17-4bfa-8255-9fd17ee21b51",
   "metadata": {},
   "outputs": [],
   "source": []
  }
 ],
 "metadata": {
  "kernelspec": {
   "display_name": "R",
   "language": "R",
   "name": "ir"
  },
  "language_info": {
   "codemirror_mode": "r",
   "file_extension": ".r",
   "mimetype": "text/x-r-source",
   "name": "R",
   "pygments_lexer": "r",
   "version": "4.3.1"
  }
 },
 "nbformat": 4,
 "nbformat_minor": 5
}
