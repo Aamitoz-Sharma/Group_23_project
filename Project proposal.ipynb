{
 "cells": [
  {
   "cell_type": "markdown",
   "id": "f5d6158f-10d1-43d8-9aed-ae71e5bace7d",
   "metadata": {},
   "source": [
    "# Predicting Heart Disease: DSCI 100 Group Project Proposal (Group 23)"
   ]
  },
  {
   "cell_type": "markdown",
   "id": "e9516efb-d977-44e2-90a2-ec2209dfc729",
   "metadata": {},
   "source": [
    "### Introduction:"
   ]
  },
  {
   "cell_type": "markdown",
   "id": "858a19fd-2791-4952-8852-defc8bdd0c14",
   "metadata": {},
   "source": [
    "Cardiovascular diseases (CVDs), or heart diseases, encompasses a range of medical conditions that affect the heart and blood vessels. Worldwide, CVDs are the leading cause of death with nearly 18 million deaths a year. CVDs  include coronary heart disease, strokes and TIAs, peripheral arterial disease, and aortic disease. Heart disease is often “silent” and is not diagnosed until a major event like a heart attack, stroke, or heart failure occurs. Early detection is key to treatment, prevention, and management of heart disease; our data analysis aims to help with this. Risk factors for heart disease include high blood pressure, high blood cholesterol, smoking, diabetes, obesity, family history, and increased age. \n",
    "\n",
    "The dataset used in our analysis is from the following repository: https://archive.ics.uci.edu/dataset/45/heart+disease. The data was published in 1988 and collected in Cleveland. The dataset consists of 303 observations and 14 variables: age, sex, chest pain type, resting blood pressure, serum cholesterol, fasting blood sugar, resting electrocardiogram results, maximum heart rate achieved, presence of exercise induced angina, ST depression induced by exercise relative to rest, the slope of the peak exercise ST segment, number of major vessels colored by fluoroscopy, thalassemia presence, and diagnosis of heart disease.\n",
    "\n",
    "The question we aim to address is: can we predict if a patient has heart disease based on their age, resting blood pressure, serum cholesterol, and maximum resting heart rate?\n"
   ]
  },
  {
   "cell_type": "markdown",
   "id": "abcf0676-a6c4-4835-8ce3-37dd576a9236",
   "metadata": {},
   "source": [
    "### Preliminary exploratory data analysis:\n"
   ]
  },
  {
   "cell_type": "markdown",
   "id": "652e79ec-faa4-4719-844e-779dc045148a",
   "metadata": {},
   "source": [
    "- Demonstrate that the dataset can be read from the web into R \n",
    "- Clean and wrangle your data into a tidy format\n",
    "- Using only training data, summarize the data in at least one table (this is exploratory data analysis). An example of a useful table could be one that reports the number of observations in each class, the means of the predictor variables you plan to use in your analysis and how many rows have missing data. \n",
    "- Using only training data, visualize the data with at least one plot relevant to the analysis you plan to do (this is exploratory data analysis). An example of a useful visualization could be one that compares the distributions of each of the predictor variables you plan to use in your analysis.\n"
   ]
  },
  {
   "cell_type": "markdown",
   "id": "c49a83c3-183e-41af-9ca6-ceadcf15904f",
   "metadata": {},
   "source": [
    "### Methods:"
   ]
  },
  {
   "cell_type": "markdown",
   "id": "ff44ca38-2414-4e05-90b5-5e0f0e8a497a",
   "metadata": {},
   "source": [
    "- Explain how you will conduct either your data analysis and which variables/columns you will use. Note - you do not need to use all variables/columns that exist in the raw data set. In fact, that's often not a good idea. For each variable think: is this a useful variable for prediction?\n",
    "- Describe at least one way that you will visualize the results\n"
   ]
  },
  {
   "cell_type": "markdown",
   "id": "2e4afe82-f0fd-4e2c-9ec0-8b45b616cc86",
   "metadata": {},
   "source": [
    "### Expected outcomes and significance:\r\n"
   ]
  },
  {
   "cell_type": "markdown",
   "id": "7ef2eb4a-a912-4b18-b005-b29dc491e00c",
   "metadata": {},
   "source": [
    "- What do you expect to find?\n",
    "- What impact could such findings have?\n",
    "- What future questions could this lead to?\n",
    "\n"
   ]
  },
  {
   "cell_type": "code",
   "execution_count": null,
   "id": "38869f42-77c3-4435-bc18-b7d4dc248695",
   "metadata": {},
   "outputs": [],
   "source": []
  }
 ],
 "metadata": {
  "kernelspec": {
   "display_name": "R",
   "language": "R",
   "name": "ir"
  },
  "language_info": {
   "codemirror_mode": "r",
   "file_extension": ".r",
   "mimetype": "text/x-r-source",
   "name": "R",
   "pygments_lexer": "r",
   "version": "4.3.1"
  }
 },
 "nbformat": 4,
 "nbformat_minor": 5
}
